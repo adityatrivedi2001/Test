{
  "nbformat": 4,
  "nbformat_minor": 0,
  "metadata": {
    "kernelspec": {
      "display_name": "Python 3",
      "language": "python",
      "name": "python3"
    },
    "language_info": {
      "codemirror_mode": {
        "name": "ipython",
        "version": 3
      },
      "file_extension": ".py",
      "mimetype": "text/x-python",
      "name": "python",
      "nbconvert_exporter": "python",
      "pygments_lexer": "ipython3",
      "version": "3.5.2"
    },
    "colab": {
      "name": "week_5_intep_approx.ipynb",
      "provenance": [],
      "collapsed_sections": [],
      "include_colab_link": true
    }
  },
  "cells": [
    {
      "cell_type": "markdown",
      "metadata": {
        "id": "view-in-github",
        "colab_type": "text"
      },
      "source": [
        "<a href=\"https://colab.research.google.com/github/adityatrivedi2001/tarun_sir/blob/master/week_5_intep_approx.ipynb\" target=\"_parent\"><img src=\"https://colab.research.google.com/assets/colab-badge.svg\" alt=\"Open In Colab\"/></a>"
      ]
    },
    {
      "cell_type": "markdown",
      "metadata": {
        "id": "OeDvpwrJjPeF"
      },
      "source": [
        "# I. Linear least squares approximation"
      ]
    },
    {
      "cell_type": "markdown",
      "metadata": {
        "id": "OeaTkRI9jPeH"
      },
      "source": [
        "Consider a function $y = f(x)$ which is defined by a set of values $y_0, y_1, \\cdots, y_n$ at points $x_0, x_1, \\cdots, x_n$."
      ]
    },
    {
      "cell_type": "code",
      "metadata": {
        "id": "3p5f2kR5jPeI"
      },
      "source": [
        "x = [-1, -0.7, -0.43, -0.14, -0.14, 0.43, 0.71, 1, 1.29, 1.57, 1.86, 2.14, 2.43, 2.71, 3]\n",
        "y = [-2.25, -0.77, 0.21, 0.44, 0.64, 0.03, -0.22, -0.84, -1.2, -1.03, -0.37, 0.61, 2.67, 5.04, 8.90]"
      ],
      "execution_count": null,
      "outputs": []
    },
    {
      "cell_type": "markdown",
      "metadata": {
        "id": "oPwEVDBJjPeK"
      },
      "source": [
        "### I.I. Find a best fit polynomial\n",
        "\n",
        "$$\n",
        "P_m(x) = a_0 + a_1 x + \\cdots + a_m x^m\n",
        "$$\n",
        "\n",
        "using the linear least squares approach. To this end\n",
        "\n",
        "1. implement a function which constructs the design matrix using $1, x, \\cdots, x^m$ as the basis functions.\n",
        "\n",
        "2. construct explicitly the normal system of equations of the linear least squares problem at fixed $m$.\n",
        "\n",
        "3. Solve the normal equations to find the coefficients of $P_m(x)$ for $m = 0, 1, 2, \\dots$. For the linear algebra problem, you can either use library functions (`numpy.linalg.solve`) or your LU factorization code from week 1.\n",
        "\n",
        "(20% of the total grade)"
      ]
    },
    {
      "cell_type": "code",
      "metadata": {
        "id": "ij0xJ05JjPeK",
        "colab": {
          "base_uri": "https://localhost:8080/"
        },
        "outputId": "7b6f89a7-2192-4dd7-e803-bdce2213765f"
      },
      "source": [
        "# ... ENTER YOUR CODE HERE\n",
        "import numpy as np\n",
        "\n",
        "def poly_fit(x,y,m):\n",
        "  num_obs = len(x)\n",
        "  x = np.array(x)\n",
        "  X = np.zeros([num_obs, m+1])\n",
        "  y = np.array(y).reshape([-1,1])\n",
        "  for power in range(m+1):\n",
        "    X[:,power] = x**power\n",
        "  return np.dot(np.linalg.inv(np.dot(X.T,X)),np.dot(X.T,y))        #for finding the coefficients\n",
        "for m in [1,2,3,4,5,6,7,8,9]:\n",
        "  a = poly_fit(x,y,m)\n",
        "  print(a)\n",
        "  print(\"///////\")"
      ],
      "execution_count": null,
      "outputs": [
        {
          "output_type": "stream",
          "text": [
            "[[-0.6479869 ]\n",
            " [ 1.46502399]]\n",
            "///////\n",
            "[[-1.25772058]\n",
            " [-0.65313865]\n",
            " [ 1.0667959 ]]\n",
            "///////\n",
            "[[ 0.49483598]\n",
            " [-0.26983377]\n",
            " [-2.01973166]\n",
            " [ 1.01540301]]\n",
            "///////\n",
            "[[ 0.51184244]\n",
            " [-0.33857023]\n",
            " [-2.05689291]\n",
            " [ 1.08931365]\n",
            " [-0.01872316]]\n",
            "///////\n",
            "[[ 0.53158296]\n",
            " [-0.24431123]\n",
            " [-2.15174437]\n",
            " [ 0.99954653]\n",
            " [ 0.07265921]\n",
            " [-0.01835276]]\n",
            "///////\n",
            "[[ 0.58335489]\n",
            " [-0.21341539]\n",
            " [-2.47667914]\n",
            " [ 1.08743364]\n",
            " [ 0.3156542 ]\n",
            " [-0.17478186]\n",
            " [ 0.02574425]]\n",
            "///////\n",
            "[[ 0.5744677 ]\n",
            " [-0.13006497]\n",
            " [-2.3829579 ]\n",
            " [ 0.80842609]\n",
            " [ 0.3196533 ]\n",
            " [ 0.0116892 ]\n",
            " [-0.06899496]\n",
            " [ 0.01366621]]\n",
            "///////\n",
            "[[ 0.53749244]\n",
            " [-0.37095534]\n",
            " [-2.06051934]\n",
            " [ 1.53912235]\n",
            " [-0.54617266]\n",
            " [-0.22834563]\n",
            " [ 0.51017192]\n",
            " [-0.21721566]\n",
            " [ 0.02885626]]\n",
            "///////\n",
            "[[ 0.50918932]\n",
            " [-0.43758287]\n",
            " [-1.67901181]\n",
            " [ 1.61523609]\n",
            " [-1.4346596 ]\n",
            " [ 0.20209012]\n",
            " [ 0.91271626]\n",
            " [-0.64210816]\n",
            " [ 0.1643108 ]\n",
            " [-0.01477536]]\n",
            "///////\n"
          ],
          "name": "stdout"
        }
      ]
    },
    {
      "cell_type": "markdown",
      "metadata": {
        "id": "HNyOG0CEjPeK"
      },
      "source": [
        "### I.II \n",
        "\n",
        "To find the optimal value of m, use the following criterion: take $m=0, 1, 2, \\dots$, for each value of $m$ compute \n",
        "\n",
        "$$\n",
        "\\sigma_m^2 = \\frac{1}{n - m} \\sum_{k=0}^n \\left( P_m(x_k) - y_k \\right)^2\n",
        "$$\n",
        "\n",
        "And take the value of $m$, at which $\\sigma_m$ stabilizes or starts increasing.\n",
        "\n",
        "(20% of the total grade)"
      ]
    },
    {
      "cell_type": "code",
      "metadata": {
        "id": "JICddBkWjPeN",
        "colab": {
          "base_uri": "https://localhost:8080/"
        },
        "outputId": "4e9a9267-7835-403d-d511-fdf093ebea46"
      },
      "source": [
        "# ... ENTER YOUR CODE HERE ...\n",
        "def compute_error(x,y,m):\n",
        "    coefficients = poly_fit(x,y,m)\n",
        "    num_obs = len(x)\n",
        "    x = np.array(x)\n",
        "    X = np.zeros([num_obs, m+1])\n",
        "    y = np.array(y).reshape([-1,1])\n",
        "    for power in range(m+1):\n",
        "      X[:,power] = x**power\n",
        "    prediction = np.dot(X,coefficients)\n",
        "    return 1/(num_obs-m)*np.sum((prediction-y)**2)\n",
        "for m in [1,2,3,4,5,6,7,8,9,10,11]:\n",
        "  e = compute_error(x,y,m)\n",
        "  print(e)\n",
        "  print(m)"
      ],
      "execution_count": null,
      "outputs": [
        {
          "output_type": "stream",
          "text": [
            "4.4502158667062055\n",
            "1\n",
            "2.4534269975791783\n",
            "2\n",
            "0.012470899099731586\n",
            "3\n",
            "0.012460407583509954\n",
            "4\n",
            "0.012600059280330676\n",
            "5\n",
            "0.011590813700606682\n",
            "6\n",
            "0.012289041756436652\n",
            "7\n",
            "0.01156937152473382\n",
            "8\n",
            "0.01293104518211908\n",
            "9\n",
            "0.014257919894575331\n",
            "10\n",
            "0.005380200986484235\n",
            "11\n"
          ],
          "name": "stdout"
        }
      ]
    },
    {
      "cell_type": "markdown",
      "metadata": {
        "id": "tlCR8IBtjPeO"
      },
      "source": [
        "Plot your polynomials $P_m(x)$ on one plot, together with the datapoints. Visually compare best-fit polynomials of different degrees. Is the visual comparison consistent with the optimal value of $m$?"
      ]
    },
    {
      "cell_type": "code",
      "metadata": {
        "colab": {
          "base_uri": "https://localhost:8080/",
          "height": 265
        },
        "id": "ewgKbyMmjPeO",
        "outputId": "3ba72ce7-f62f-4604-e81b-fa60babe664e"
      },
      "source": [
        "# ... ENTER YOUR CODE HERE\n",
        "import matplotlib.pyplot as plt\n",
        "plt.plot(x,y,\"bo\")\n",
        "for m in [6]:\n",
        "    coefficients=poly_fit(x,y,m)\n",
        "    x_test=np.arange(-2,4,0.01)\n",
        "    X_test=np.zeros([len(x_test),m+1])\n",
        "    for power in range(m+1):\n",
        "        X_test[:,power]=x_test**power\n",
        "    y_test=np.dot(X_test,coefficients)\n",
        "    plt.plot(x_test,y_test)"
      ],
      "execution_count": null,
      "outputs": [
        {
          "output_type": "display_data",
          "data": {
            "image/png": "[encoded data removed]",
            "text/plain": [
              "<Figure size 432x288 with 1 Axes>"
            ]
          },
          "metadata": {
            "tags": [],
            "needs_background": "light"
          }
        }
      ]
    },
    {
      "cell_type": "markdown",
      "metadata": {
        "id": "Bzj3MOAZjPeO"
      },
      "source": [
        "### I.III. Linear least-squares using the QR factorization.\n",
        "\n",
        "For the optimal value of $m$ from the previous part, solve the LLS problem using the QR factorization, withou ever forming the normal equations explicitly. For linear algebra, you can use standard library functions (look up `numpy.linalg.solve`, `numpy.linalg.qr` etc) or your code from previous weeks.\n",
        "\n",
        "Compare the results with the results of solving the normal system of equations.\n",
        "\n",
        "(20% of the grade)"
      ]
    },
    {
      "cell_type": "code",
      "metadata": {
        "colab": {
          "base_uri": "https://localhost:8080/"
        },
        "id": "vnkEOvKtjPeP",
        "outputId": "a0b9569c-79cd-4c8a-d652-83fa975728fc"
      },
      "source": [
        "# ... ENTER YOUR CODE HERE ...\n",
        "def ls_qr(x,y,m):\n",
        "    num_obs=len(x)\n",
        "    x=np.array(x)\n",
        "    X=np.zeros([num_obs,m+1])\n",
        "    y=np.array(y).reshape([-1,1])\n",
        "    for power in range(m+1):\n",
        "        X[:,power]=x**power\n",
        "    return np.linalg.solve(np.dot(X.T,X),np.dot(X.T,y))\n",
        "b_new=ls_qr(x,y,6)\n",
        "b_new\n"
      ],
      "execution_count": null,
      "outputs": [
        {
          "output_type": "execute_result",
          "data": {
            "text/plain": [
              "array([[ 0.58335489],\n",
              "       [-0.21341539],\n",
              "       [-2.47667914],\n",
              "       [ 1.08743364],\n",
              "       [ 0.3156542 ],\n",
              "       [-0.17478186],\n",
              "       [ 0.02574425]])"
            ]
          },
          "metadata": {
            "tags": []
          },
          "execution_count": 31
        }
      ]
    },
    {
      "cell_type": "markdown",
      "metadata": {
        "id": "8xEet5kpjPeQ"
      },
      "source": [
        "# II. Lagrange interpolation"
      ]
    },
    {
      "cell_type": "markdown",
      "metadata": {
        "id": "Ear7fWk7jPeR"
      },
      "source": [
        "### II.1 \n",
        "\n",
        "Consider the function, $f(x) = x^2 \\cos{x}$. On the interval $x\\in [\\pi/2, \\pi]$, interpolate the function using the Lagrange interpolating polynomial of degree $m$ with $m=1, 2, 3, 4, 5$. Use the uniform mesh. Plot the resulting interpolants together with $f(x)$.\n",
        "\n",
        "(20% of the total grade)"
      ]
    },
    {
      "cell_type": "code",
      "metadata": {
        "colab": {
          "base_uri": "https://localhost:8080/",
          "height": 612
        },
        "id": "wqWbuCdOjPeR",
        "outputId": "cd0008eb-5523-4d32-ea20-61ba6c4d89b7"
      },
      "source": [
        "# ... ENTER YOUR CODE HERE ...\n",
        "import matplotlib.pyplot as plt\n",
        "import math\n",
        "%matplotlib inline\n",
        "def lagrange_k(xval,xk,k):\n",
        "  n = len(xk)\n",
        "  term = 1.0\n",
        "  for j in range(n):\n",
        "    if j == k:\n",
        "      continue\n",
        "      num = xval - xk[j]\n",
        "      den = xk[k] - xk[j]\n",
        "      term*=num/den\n",
        "  return term\n",
        "\n",
        "def lagrange(xval,xk,yk):\n",
        "    return sum(yk[j]*lagrange_k(xval,xk,j) for j in range(len(xk)))\n",
        "\n",
        "def plot_interp(func,nodes,add_legend=True):\n",
        "    yy=func(nodes)\n",
        "    xn=np.linspace(math.pi/2,math.pi,100)\n",
        "    yn=[lagrange(_,nodes,yy) for _ in xn]\n",
        "    #plot\n",
        "    print(xn)\n",
        "    print(yn) \n",
        "    plt.plot(xn,yn,'-',alpha=0.7,label=r'interp,$n=%s$' %len(nodes))\n",
        "    plt.plot(xn,func(xn),label=r'$f(x)$')\n",
        "    plt.plot(nodes,yy,'o')\n",
        "    if add_legend:\n",
        "        plt.legend(loc='best')\n",
        "\n",
        "\n",
        "nodes=np.linspace(math.pi/2,math.pi,5)\n",
        "plot_interp(lambda x:(x**2)*np.cos(x),nodes)"
      ],
      "execution_count": null,
      "outputs": [
        {
          "output_type": "stream",
          "text": [
            "[1.57079633 1.58666296 1.60252959 1.61839622 1.63426285 1.65012947\n",
            " 1.6659961  1.68186273 1.69772936 1.71359599 1.72946262 1.74532925\n",
            " 1.76119588 1.77706251 1.79292914 1.80879577 1.8246624  1.84052903\n",
            " 1.85639566 1.87226229 1.88812892 1.90399555 1.91986218 1.93572881\n",
            " 1.95159544 1.96746207 1.9833287  1.99919533 2.01506195 2.03092858\n",
            " 2.04679521 2.06266184 2.07852847 2.0943951  2.11026173 2.12612836\n",
            " 2.14199499 2.15786162 2.17372825 2.18959488 2.20546151 2.22132814\n",
            " 2.23719477 2.2530614  2.26892803 2.28479466 2.30066129 2.31652792\n",
            " 2.33239455 2.34826118 2.3641278  2.37999443 2.39586106 2.41172769\n",
            " 2.42759432 2.44346095 2.45932758 2.47519421 2.49106084 2.50692747\n",
            " 2.5227941  2.53866073 2.55452736 2.57039399 2.58626062 2.60212725\n",
            " 2.61799388 2.63386051 2.64972714 2.66559377 2.6814604  2.69732703\n",
            " 2.71319366 2.72906028 2.74492691 2.76079354 2.77666017 2.7925268\n",
            " 2.80839343 2.82426006 2.84012669 2.85599332 2.87185995 2.88772658\n",
            " 2.90359321 2.91945984 2.93532647 2.9511931  2.96705973 2.98292636\n",
            " 2.99879299 3.01465962 3.03052625 3.04639288 3.06225951 3.07812614\n",
            " 3.09399276 3.10985939 3.12572602 3.14159265]\n",
            "[-22.251798352678428, -22.251798352678428, -22.251798352678428, -22.251798352678428, -22.251798352678428, -22.251798352678428, -22.251798352678428, -22.251798352678428, -22.251798352678428, -22.251798352678428, -22.251798352678428, -22.251798352678428, -22.251798352678428, -22.251798352678428, -22.251798352678428, -22.251798352678428, -22.251798352678428, -22.251798352678428, -22.251798352678428, -22.251798352678428, -22.251798352678428, -22.251798352678428, -22.251798352678428, -22.251798352678428, -22.251798352678428, -22.251798352678428, -22.251798352678428, -22.251798352678428, -22.251798352678428, -22.251798352678428, -22.251798352678428, -22.251798352678428, -22.251798352678428, -22.251798352678428, -22.251798352678428, -22.251798352678428, -22.251798352678428, -22.251798352678428, -22.251798352678428, -22.251798352678428, -22.251798352678428, -22.251798352678428, -22.251798352678428, -22.251798352678428, -22.251798352678428, -22.251798352678428, -22.251798352678428, -22.251798352678428, -22.251798352678428, -22.251798352678428, -22.251798352678428, -22.251798352678428, -22.251798352678428, -22.251798352678428, -22.251798352678428, -22.251798352678428, -22.251798352678428, -22.251798352678428, -22.251798352678428, -22.251798352678428, -22.251798352678428, -22.251798352678428, -22.251798352678428, -22.251798352678428, -22.251798352678428, -22.251798352678428, -22.251798352678428, -22.251798352678428, -22.251798352678428, -22.251798352678428, -22.251798352678428, -22.251798352678428, -22.251798352678428, -22.251798352678428, -22.251798352678428, -22.251798352678428, -22.251798352678428, -22.251798352678428, -22.251798352678428, -22.251798352678428, -22.251798352678428, -22.251798352678428, -22.251798352678428, -22.251798352678428, -22.251798352678428, -22.251798352678428, -22.251798352678428, -22.251798352678428, -22.251798352678428, -22.251798352678428, -22.251798352678428, -22.251798352678428, -22.251798352678428, -22.251798352678428, -22.251798352678428, -22.251798352678428, -22.251798352678428, -22.251798352678428, -22.251798352678428, -22.251798352678428]\n"
          ],
          "name": "stdout"
        },
        {
          "output_type": "display_data",
          "data": {
            "image/png": "[encoded data removed]",
            "text/plain": [
              "<Figure size 432x288 with 1 Axes>"
            ]
          },
          "metadata": {
            "tags": [],
            "needs_background": "light"
          }
        }
      ]
    },
    {
      "cell_type": "markdown",
      "metadata": {
        "id": "xrQab5YZjPeR"
      },
      "source": [
        "### II.2. \n",
        "\n",
        "Repeat the previous task using the Chebyshev nodes. Compare the quality of interpolation on a uniform mesh and Chebyshev nodes for $m=3$.\n",
        "\n",
        "(20% of the total grade)"
      ]
    },
    {
      "cell_type": "code",
      "metadata": {
        "colab": {
          "base_uri": "https://localhost:8080/",
          "height": 265
        },
        "id": "6b_x5avrjPeR",
        "outputId": "f4991f13-6b4d-4f78-e735-91d0086304df"
      },
      "source": [
        "# ... ENTER YOUR CODE HERE ...\n",
        "def cheb_nodes(n):\n",
        "  k = np.arange(n)\n",
        "  return (np.cos((2*k+1)*np.pi/(2*n)))*0.25*np.pi+0.75*np.pi\n",
        "plot_interp(lambda x:(x**2)*np.cos(x),nodes=cheb_nodes(3))\n",
        "def cheb_nodes(n):\n",
        "    k=np.arange(n)\n",
        "    return (np.cos((2*k+1)*np.pi/(2*n)))*0.25*np.pi+0.75*np.pi\n",
        "plot_interp(lambda x:(x**2)*np.cos(x),nodes=cheb_nodes(3))"
      ],
      "execution_count": null,
      "outputs": [
        {
          "output_type": "display_data",
          "data": {
            "image/png": "[encoded data removed]",
            "text/plain": [
              "<Figure size 432x288 with 1 Axes>"
            ]
          },
          "metadata": {
            "tags": [],
            "needs_background": "light"
          }
        }
      ]
    },
    {
      "cell_type": "code",
      "metadata": {
        "id": "f54qf1gn_k95"
      },
      "source": [
        ""
      ],
      "execution_count": null,
      "outputs": []
    }
  ]
}